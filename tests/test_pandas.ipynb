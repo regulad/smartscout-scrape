{
 "cells": [
  {
   "cell_type": "code",
   "execution_count": 1,
   "outputs": [],
   "source": [
    "import pandas as pd\n",
    "\n",
    "from smartscoutscrape import SmartScoutPandas"
   ],
   "metadata": {
    "collapsed": false,
    "ExecuteTime": {
     "end_time": "2023-07-09T03:54:32.884959300Z",
     "start_time": "2023-07-09T03:54:32.212149500Z"
    }
   }
  },
  {
   "cell_type": "code",
   "execution_count": 2,
   "outputs": [],
   "source": [
    "# Create a SmartScoutPandas object\n",
    "scout = SmartScoutPandas.from_temp_dir()"
   ],
   "metadata": {
    "collapsed": false,
    "ExecuteTime": {
     "end_time": "2023-07-09T03:54:38.660819100Z",
     "start_time": "2023-07-09T03:54:32.886557900Z"
    }
   }
  },
  {
   "cell_type": "code",
   "execution_count": 4,
   "outputs": [
    {
     "name": "stdout",
     "output_type": "stream",
     "text": [
      "<class 'pandas.core.frame.DataFrame'>\n",
      "Index: 916 entries, B0025UOOFK to B075GTZLJ3\n",
      "Data columns (total 11 columns):\n",
      " #   Column                  Non-Null Count  Dtype  \n",
      "---  ------                  --------------  -----  \n",
      " 0   image                   916 non-null    object \n",
      " 1   title                   916 non-null    object \n",
      " 2   manufacturer            916 non-null    object \n",
      " 3   brandName               916 non-null    object \n",
      " 4   averageBuyBoxPrice      916 non-null    float64\n",
      " 5   numberOfItems           916 non-null    int64  \n",
      " 6   numberOfSellers         916 non-null    int64  \n",
      " 7   monthlyRevenueEstimate  916 non-null    float64\n",
      " 8   monthlyUnitsSold        916 non-null    int64  \n",
      " 9   reviewRating            916 non-null    float64\n",
      " 10  reviewCount             916 non-null    int64  \n",
      "dtypes: float64(3), int64(4), object(4)\n",
      "memory usage: 85.9+ KB\n"
     ]
    },
    {
     "data": {
      "text/plain": "                                                        image  \\\nasin                                                            \nB0025UOOFK  b'\\xff\\xd8\\xff\\xe0\\x00\\x10JFIF\\x00\\x01\\x01\\x00...   \nB005EJLGCS  b'\\xff\\xd8\\xff\\xe0\\x00\\x10JFIF\\x00\\x01\\x01\\x00...   \nB006K3UC86  b'\\xff\\xd8\\xff\\xe0\\x00\\x10JFIF\\x00\\x01\\x01\\x00...   \nB01GQK3AB8  b'\\xff\\xd8\\xff\\xe0\\x00\\x10JFIF\\x00\\x01\\x01\\x00...   \nB07SFZXV6B  b'\\xff\\xd8\\xff\\xe0\\x00\\x10JFIF\\x00\\x01\\x01\\x00...   \n\n                                                        title  \\\nasin                                                            \nB0025UOOFK  Monin Flavored Syrup, Toasted Marshmallow, 33....   \nB005EJLGCS  Monin - Pure Cane Syrup, Pure and Sweet, Great...   \nB006K3UC86  Torani Sugar Free Syrup, Vanilla, 25.4 Ounce (...   \nB01GQK3AB8  Liber & Co. Tropical Passion Fruit Syrup (9.5 oz)   \nB07SFZXV6B  Sugar Free Vanilla Almond 750 ml (Pack of 2) w...   \n\n                     manufacturer    brandName  averageBuyBoxPrice  \\\nasin                                                                 \nB0025UOOFK                  Monin        Monin               63.25   \nB005EJLGCS                  Monin        Monin               17.34   \nB006K3UC86                 Torani       Torani                5.78   \nB01GQK3AB8            Liber & Co.  Liber & Co.               18.99   \nB07SFZXV6B  Jordan's Skinny Mixes   By The Cup               24.24   \n\n            numberOfItems  numberOfSellers  monthlyRevenueEstimate  \\\nasin                                                                 \nB0025UOOFK              4                7                 5234.88   \nB005EJLGCS              1                7                15670.20   \nB006K3UC86              1               15                10652.54   \nB01GQK3AB8              1                3                 6494.58   \nB07SFZXV6B              2                0                 8003.86   \n\n            monthlyUnitsSold  reviewRating  reviewCount  \nasin                                                     \nB0025UOOFK                84           4.5         1251  \nB005EJLGCS               910           4.6         3428  \nB006K3UC86              1843           4.7         3602  \nB01GQK3AB8               342           4.7          787  \nB07SFZXV6B               314           4.6          256  ",
      "text/html": "<div>\n<style scoped>\n    .dataframe tbody tr th:only-of-type {\n        vertical-align: middle;\n    }\n\n    .dataframe tbody tr th {\n        vertical-align: top;\n    }\n\n    .dataframe thead th {\n        text-align: right;\n    }\n</style>\n<table border=\"1\" class=\"dataframe\">\n  <thead>\n    <tr style=\"text-align: right;\">\n      <th></th>\n      <th>image</th>\n      <th>title</th>\n      <th>manufacturer</th>\n      <th>brandName</th>\n      <th>averageBuyBoxPrice</th>\n      <th>numberOfItems</th>\n      <th>numberOfSellers</th>\n      <th>monthlyRevenueEstimate</th>\n      <th>monthlyUnitsSold</th>\n      <th>reviewRating</th>\n      <th>reviewCount</th>\n    </tr>\n    <tr>\n      <th>asin</th>\n      <th></th>\n      <th></th>\n      <th></th>\n      <th></th>\n      <th></th>\n      <th></th>\n      <th></th>\n      <th></th>\n      <th></th>\n      <th></th>\n      <th></th>\n    </tr>\n  </thead>\n  <tbody>\n    <tr>\n      <th>B0025UOOFK</th>\n      <td>b'\\xff\\xd8\\xff\\xe0\\x00\\x10JFIF\\x00\\x01\\x01\\x00...</td>\n      <td>Monin Flavored Syrup, Toasted Marshmallow, 33....</td>\n      <td>Monin</td>\n      <td>Monin</td>\n      <td>63.25</td>\n      <td>4</td>\n      <td>7</td>\n      <td>5234.88</td>\n      <td>84</td>\n      <td>4.5</td>\n      <td>1251</td>\n    </tr>\n    <tr>\n      <th>B005EJLGCS</th>\n      <td>b'\\xff\\xd8\\xff\\xe0\\x00\\x10JFIF\\x00\\x01\\x01\\x00...</td>\n      <td>Monin - Pure Cane Syrup, Pure and Sweet, Great...</td>\n      <td>Monin</td>\n      <td>Monin</td>\n      <td>17.34</td>\n      <td>1</td>\n      <td>7</td>\n      <td>15670.20</td>\n      <td>910</td>\n      <td>4.6</td>\n      <td>3428</td>\n    </tr>\n    <tr>\n      <th>B006K3UC86</th>\n      <td>b'\\xff\\xd8\\xff\\xe0\\x00\\x10JFIF\\x00\\x01\\x01\\x00...</td>\n      <td>Torani Sugar Free Syrup, Vanilla, 25.4 Ounce (...</td>\n      <td>Torani</td>\n      <td>Torani</td>\n      <td>5.78</td>\n      <td>1</td>\n      <td>15</td>\n      <td>10652.54</td>\n      <td>1843</td>\n      <td>4.7</td>\n      <td>3602</td>\n    </tr>\n    <tr>\n      <th>B01GQK3AB8</th>\n      <td>b'\\xff\\xd8\\xff\\xe0\\x00\\x10JFIF\\x00\\x01\\x01\\x00...</td>\n      <td>Liber &amp; Co. Tropical Passion Fruit Syrup (9.5 oz)</td>\n      <td>Liber &amp; Co.</td>\n      <td>Liber &amp; Co.</td>\n      <td>18.99</td>\n      <td>1</td>\n      <td>3</td>\n      <td>6494.58</td>\n      <td>342</td>\n      <td>4.7</td>\n      <td>787</td>\n    </tr>\n    <tr>\n      <th>B07SFZXV6B</th>\n      <td>b'\\xff\\xd8\\xff\\xe0\\x00\\x10JFIF\\x00\\x01\\x01\\x00...</td>\n      <td>Sugar Free Vanilla Almond 750 ml (Pack of 2) w...</td>\n      <td>Jordan's Skinny Mixes</td>\n      <td>By The Cup</td>\n      <td>24.24</td>\n      <td>2</td>\n      <td>0</td>\n      <td>8003.86</td>\n      <td>314</td>\n      <td>4.6</td>\n      <td>256</td>\n    </tr>\n  </tbody>\n</table>\n</div>"
     },
     "execution_count": 4,
     "metadata": {},
     "output_type": "execute_result"
    }
   ],
   "source": [
    "SYRUPS_SUBCATEGORY_ID = 23783757011\n",
    "\n",
    "syrups_df = scout.get_df_of_subcategory(SYRUPS_SUBCATEGORY_ID)\n",
    "\n",
    "syrups_df.info()\n",
    "syrups_df.head()\n"
   ],
   "metadata": {
    "collapsed": false,
    "ExecuteTime": {
     "end_time": "2023-07-09T03:55:03.384243400Z",
     "start_time": "2023-07-09T03:55:03.150295500Z"
    }
   }
  }
 ],
 "metadata": {
  "kernelspec": {
   "display_name": "Python 3",
   "language": "python",
   "name": "python3"
  },
  "language_info": {
   "codemirror_mode": {
    "name": "ipython",
    "version": 2
   },
   "file_extension": ".py",
   "mimetype": "text/x-python",
   "name": "python",
   "nbconvert_exporter": "python",
   "pygments_lexer": "ipython2",
   "version": "2.7.6"
  }
 },
 "nbformat": 4,
 "nbformat_minor": 0
}
